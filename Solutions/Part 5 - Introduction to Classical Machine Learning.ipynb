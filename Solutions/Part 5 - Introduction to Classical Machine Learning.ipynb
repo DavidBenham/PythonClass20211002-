{
 "cells": [
  {
   "cell_type": "code",
   "execution_count": 1,
   "id": "b69fa101",
   "metadata": {},
   "outputs": [],
   "source": [
    "# Load libraries\n",
    "# Load the following libraries:  numpy, pandas, train test split, Random Forest Regressor, \n",
    "# Mean Squared Error, Random Forest Classifier, and accuracy score\n",
    "\n",
    "import numpy as np\n",
    "import pandas as pd\n",
    "from sklearn.model_selection import train_test_split\n",
    "from sklearn.ensemble import RandomForestRegressor # Regression\n",
    "from sklearn.metrics import r2_score,mean_squared_error # Regression Scoring\n",
    "from sklearn.ensemble import RandomForestClassifier # Classification\n",
    "from sklearn.metrics import accuracy_score # Classification Scoring"
   ]
  },
  {
   "cell_type": "code",
   "execution_count": 2,
   "id": "048b3343",
   "metadata": {},
   "outputs": [],
   "source": [
    "# Read .csv into a dataframe called wells\n",
    "wells = pd.read_csv(\"../data/enverus_data.csv\", low_memory=False)"
   ]
  },
  {
   "cell_type": "code",
   "execution_count": 3,
   "id": "0a9df5d1",
   "metadata": {},
   "outputs": [],
   "source": [
    "# Select these columns from wells and store in wells_filtered:\n",
    "# \"Vintage\",\"LateralLength_FT\",\"First12MonthOil_BBL\"\n",
    "wells_filtered = wells[[\"Vintage\", \"LateralLength_FT\", \"First12MonthOil_BBL\"]].copy()"
   ]
  },
  {
   "cell_type": "code",
   "execution_count": 4,
   "id": "e6de6459",
   "metadata": {},
   "outputs": [],
   "source": [
    "# Drop null values\n",
    "wells_filtered.dropna(inplace=True)"
   ]
  },
  {
   "cell_type": "code",
   "execution_count": 5,
   "id": "064fcb36",
   "metadata": {},
   "outputs": [],
   "source": [
    "# Provide a feature list\n",
    "feature_list = list(wells_filtered[[\"Vintage\", \"First12MonthOil_BBL\"]])"
   ]
  },
  {
   "cell_type": "code",
   "execution_count": 6,
   "id": "9d0046b3",
   "metadata": {},
   "outputs": [],
   "source": [
    "# Provide a label array\n",
    "labels = np.array(wells_filtered[\"LateralLength_FT\"])"
   ]
  },
  {
   "cell_type": "code",
   "execution_count": 7,
   "id": "624d77e9",
   "metadata": {},
   "outputs": [],
   "source": [
    "# Define features\n",
    "features = np.array(wells_filtered[feature_list])"
   ]
  },
  {
   "cell_type": "code",
   "execution_count": 10,
   "id": "768a2635",
   "metadata": {},
   "outputs": [],
   "source": [
    "# Split data\n",
    "features_train, features_test, labels_train, labels_test = train_test_split(\n",
    "    features, labels, test_size=0.10, random_state=42)"
   ]
  },
  {
   "cell_type": "code",
   "execution_count": 11,
   "id": "0f1ae21c",
   "metadata": {},
   "outputs": [
    {
     "data": {
      "text/plain": [
       "RandomForestRegressor(random_state=42)"
      ]
     },
     "execution_count": 11,
     "metadata": {},
     "output_type": "execute_result"
    }
   ],
   "source": [
    "# Train regression model\n",
    "# declare the model\n",
    "rf = RandomForestRegressor(n_estimators = 100, random_state = 42)\n",
    "# Train the model on training data\n",
    "rf.fit(features_train, labels_train)"
   ]
  },
  {
   "cell_type": "code",
   "execution_count": 12,
   "id": "fefddef8",
   "metadata": {},
   "outputs": [],
   "source": [
    "# Test regression model\n",
    "predictions = rf.predict(features_test)"
   ]
  },
  {
   "cell_type": "code",
   "execution_count": 13,
   "id": "7f156cc9",
   "metadata": {},
   "outputs": [
    {
     "name": "stdout",
     "output_type": "stream",
     "text": [
      "Mean Absolute Error: 1445.83\n",
      "Accuracy: 74.62 %.\n"
     ]
    }
   ],
   "source": [
    "# Measure regression model\n",
    "# Calculate the absolute errors\n",
    "errors = abs(predictions - labels_test)\n",
    "# Print out the mean absolute error (mae)\n",
    "print('Mean Absolute Error:', round(np.mean(errors), 2))# Calculate mean absolute percentage error (MAPE)\n",
    "mape = 100 * (errors / labels_test)\n",
    "# Calculate and display accuracy\n",
    "accuracy = 100 - np.mean(mape)\n",
    "print('Accuracy:', round(accuracy, 2), '%.')\n",
    "\n"
   ]
  },
  {
   "cell_type": "code",
   "execution_count": null,
   "id": "90b1ad15",
   "metadata": {},
   "outputs": [],
   "source": []
  }
 ],
 "metadata": {
  "kernelspec": {
   "display_name": "Python 3",
   "language": "python",
   "name": "python3"
  },
  "language_info": {
   "codemirror_mode": {
    "name": "ipython",
    "version": 3
   },
   "file_extension": ".py",
   "mimetype": "text/x-python",
   "name": "python",
   "nbconvert_exporter": "python",
   "pygments_lexer": "ipython3",
   "version": "3.8.8"
  }
 },
 "nbformat": 4,
 "nbformat_minor": 5
}
