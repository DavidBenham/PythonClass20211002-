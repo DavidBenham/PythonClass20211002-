{
 "cells": [
  {
   "cell_type": "code",
   "execution_count": 2,
   "id": "b5070e7c",
   "metadata": {},
   "outputs": [],
   "source": [
    "# Load libraries\n",
    "# Load the following libraries: pandas and numpy\n",
    "import pandas as pd\n",
    "import numpy as np"
   ]
  },
  {
   "cell_type": "code",
   "execution_count": 4,
   "id": "4b05d803",
   "metadata": {},
   "outputs": [],
   "source": [
    "# Read .csv into a dataframe called wells\n",
    "wells = pd.read_csv(\"../data/enverus_data.csv\", low_memory=False)"
   ]
  },
  {
   "cell_type": "code",
   "execution_count": 8,
   "id": "329e2c85",
   "metadata": {},
   "outputs": [],
   "source": [
    "# Select from wells \"API\", \"First12MonthOil_BBL\" into a new dataframe called wells_oil\n",
    "# Select from wells \"API\", \"Formation\" into a new dataframe called wells_formation\n",
    "wells_oil = wells[[\"API\",\"First12MonthOil_BBL\"]].copy()\n",
    "wells_formation = wells[[\"API\",\"Formation\"]].copy()"
   ]
  },
  {
   "cell_type": "code",
   "execution_count": 11,
   "id": "dafea6b8",
   "metadata": {},
   "outputs": [
    {
     "name": "stdout",
     "output_type": "stream",
     "text": [
      "(24659, 3)\n"
     ]
    }
   ],
   "source": [
    "# Inner join the two datasets together and call it wells_combined\n",
    "wells_combined = pd.merge(wells_formation, wells_oil, on=\"API\", how = \"inner\")\n",
    "print(wells_combined.shape)"
   ]
  },
  {
   "cell_type": "code",
   "execution_count": 29,
   "id": "8165d956",
   "metadata": {},
   "outputs": [
    {
     "data": {
      "text/plain": [
       "count     13192.000000\n",
       "mean      49798.256443\n",
       "std       44070.796193\n",
       "min        5001.000000\n",
       "25%        8077.000000\n",
       "50%       42266.000000\n",
       "75%       74536.000000\n",
       "max      396858.000000\n",
       "Name: First12MonthOil_BBL, dtype: float64"
      ]
     },
     "execution_count": 29,
     "metadata": {},
     "output_type": "execute_result"
    }
   ],
   "source": [
    "# Filter the wells dataframe to only wells with greater than 5000 bbls of oil\n",
    "wells.where(wells[\"First12MonthOil_BBL\"] > 5000, inplace = True)\n",
    "wells[\"First12MonthOil_BBL\"].describe()\n",
    "\n"
   ]
  },
  {
   "cell_type": "code",
   "execution_count": 34,
   "id": "d618c293",
   "metadata": {},
   "outputs": [
    {
     "name": "stdout",
     "output_type": "stream",
     "text": [
      "                                                    First12MonthOil_BBL\n",
      "Formation                                                              \n",
      "05-014-20845                                                    75716.0\n",
      "05-123-44008                                                    83369.0\n",
      "10252018                                                        74160.0\n",
      "2ND FRONTIER | CODELL                                          145699.0\n",
      "ADMIRE | CODELL | FOUNTAIN | INGLESIDE | LYONS ...              20207.0\n",
      "...                                                                 ...\n",
      "PIERRE                                                          14224.0\n",
      "SHANNON                                                         39603.0\n",
      "SHANNON | SUSSEX | SUSSEX                                        7751.0\n",
      "SHARON SPRINGS-NIOBRARA                                         58046.0\n",
      "SUSSEX                                                          42564.0\n",
      "\n",
      "[572 rows x 1 columns]\n",
      "                                                    First12MonthOil_BBL\n",
      "Formation                                                              \n",
      "05-014-20845                                                    75716.0\n",
      "05-123-44008                                                    83369.0\n",
      "10252018                                                        74160.0\n",
      "2ND FRONTIER | CODELL                                          145699.0\n",
      "ADMIRE | CODELL | FOUNTAIN | INGLESIDE | LYONS ...              20207.0\n",
      "...                                                                 ...\n",
      "PIERRE                                                          14224.0\n",
      "SHANNON                                                         39603.0\n",
      "SHANNON | SUSSEX | SUSSEX                                        7751.0\n",
      "SHARON SPRINGS-NIOBRARA                                         58046.0\n",
      "SUSSEX                                                          10641.0\n",
      "\n",
      "[572 rows x 1 columns]\n"
     ]
    }
   ],
   "source": [
    "# Determine the sum and average oil production per formation\n",
    "print(wells[[\"Formation\",\"First12MonthOil_BBL\"]].groupby([\"Formation\"]).sum([\"First12MonthOil_BBL\"]))\n",
    "print(wells[[\"Formation\",\"First12MonthOil_BBL\"]].groupby([\"Formation\"]).mean([\"First12MonthOil_BBL\"]))"
   ]
  }
 ],
 "metadata": {
  "kernelspec": {
   "display_name": "Python 3",
   "language": "python",
   "name": "python3"
  },
  "language_info": {
   "codemirror_mode": {
    "name": "ipython",
    "version": 3
   },
   "file_extension": ".py",
   "mimetype": "text/x-python",
   "name": "python",
   "nbconvert_exporter": "python",
   "pygments_lexer": "ipython3",
   "version": "3.8.8"
  }
 },
 "nbformat": 4,
 "nbformat_minor": 5
}
