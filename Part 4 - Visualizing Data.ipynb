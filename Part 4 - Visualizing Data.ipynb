{
 "cells": [
  {
   "cell_type": "code",
   "execution_count": null,
   "id": "034ca92f",
   "metadata": {},
   "outputs": [],
   "source": [
    "# Load libraries\n",
    "# Load the following libraries: numpy, pandas, matplotlib"
   ]
  },
  {
   "cell_type": "code",
   "execution_count": null,
   "id": "9730ff1f",
   "metadata": {},
   "outputs": [],
   "source": [
    "# Read .csv into a dataframe called wells"
   ]
  },
  {
   "cell_type": "code",
   "execution_count": null,
   "id": "8e728ee1",
   "metadata": {},
   "outputs": [],
   "source": [
    "# Build a basic plot of column First12MonthOil_BBL from wells with markers that are \"+\" signs"
   ]
  },
  {
   "cell_type": "code",
   "execution_count": null,
   "id": "15d7cf27",
   "metadata": {},
   "outputs": [],
   "source": [
    "# Build a histogram of count of column Vintage from wells"
   ]
  }
 ],
 "metadata": {
  "kernelspec": {
   "display_name": "Python 3",
   "language": "python",
   "name": "python3"
  },
  "language_info": {
   "codemirror_mode": {
    "name": "ipython",
    "version": 3
   },
   "file_extension": ".py",
   "mimetype": "text/x-python",
   "name": "python",
   "nbconvert_exporter": "python",
   "pygments_lexer": "ipython3",
   "version": "3.8.8"
  }
 },
 "nbformat": 4,
 "nbformat_minor": 5
}
