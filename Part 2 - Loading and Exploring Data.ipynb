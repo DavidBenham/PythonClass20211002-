{
 "cells": [
  {
   "cell_type": "code",
   "execution_count": null,
   "id": "fa6bbcc4",
   "metadata": {},
   "outputs": [],
   "source": [
    "# Load libraries\n",
    "# Load the following libraries numpy, pandas"
   ]
  },
  {
   "cell_type": "code",
   "execution_count": null,
   "id": "4f4faddc",
   "metadata": {},
   "outputs": [],
   "source": [
    "# Read .csv into a dataframe called wells"
   ]
  },
  {
   "cell_type": "code",
   "execution_count": null,
   "id": "8455bc04",
   "metadata": {},
   "outputs": [],
   "source": [
    "# Examine dataframe - shape, fist 200 rows, last 200 rows, describe"
   ]
  },
  {
   "cell_type": "code",
   "execution_count": null,
   "id": "3525bf15",
   "metadata": {},
   "outputs": [],
   "source": [
    "# Select from wells the following columns \"Vintage\", \"Trajectory\",\"LateralLength_FT\",\"TVD_FT\",\"Formation\",\"First12MonthOil_BBL\",\"NearNeighborCount100dVZone\",\"MonthsToPeakProduction\",\"ProppantIntensity_LBSPerFT\",\"ProppantLoading_LBSPerGAL\",\"RawOperator\",\"Section\",\"Township\",\"Range\""
   ]
  },
  {
   "cell_type": "code",
   "execution_count": null,
   "id": "b5978fff",
   "metadata": {},
   "outputs": [],
   "source": [
    "# Create a new dataframe called wells_filtered from the wells dataframe with just those selected columns"
   ]
  },
  {
   "cell_type": "code",
   "execution_count": null,
   "id": "a7a44429",
   "metadata": {},
   "outputs": [],
   "source": [
    "# Examine the new dataframe shape, first 200 rows, last 200 rows, and describe"
   ]
  }
 ],
 "metadata": {
  "kernelspec": {
   "display_name": "Python 3",
   "language": "python",
   "name": "python3"
  },
  "language_info": {
   "codemirror_mode": {
    "name": "ipython",
    "version": 3
   },
   "file_extension": ".py",
   "mimetype": "text/x-python",
   "name": "python",
   "nbconvert_exporter": "python",
   "pygments_lexer": "ipython3",
   "version": "3.8.8"
  }
 },
 "nbformat": 4,
 "nbformat_minor": 5
}
