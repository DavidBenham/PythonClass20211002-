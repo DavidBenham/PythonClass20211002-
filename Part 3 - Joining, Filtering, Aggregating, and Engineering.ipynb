{
 "cells": [
  {
   "cell_type": "code",
   "execution_count": null,
   "id": "693e1e0a",
   "metadata": {},
   "outputs": [],
   "source": [
    "# Load libraries\n",
    "# Load the following libraries: pandas and numpy"
   ]
  },
  {
   "cell_type": "code",
   "execution_count": null,
   "id": "027954c4",
   "metadata": {},
   "outputs": [],
   "source": [
    "# Read .csv into a dataframe called wells"
   ]
  },
  {
   "cell_type": "code",
   "execution_count": null,
   "id": "aec0e998",
   "metadata": {},
   "outputs": [],
   "source": [
    "# Select from wells \"API\", \"First12MonthOil_BBL\" into a new dataframe called wells_oil\n",
    "# Select from wells \"API\", \"Formation\" into a new dataframe called wells_formation"
   ]
  },
  {
   "cell_type": "code",
   "execution_count": null,
   "id": "b9586a12",
   "metadata": {},
   "outputs": [],
   "source": [
    "# Inner join the two datasets together and call it wells_combined"
   ]
  },
  {
   "cell_type": "code",
   "execution_count": null,
   "id": "15d4a9da",
   "metadata": {},
   "outputs": [],
   "source": [
    "# Filter the wells dataframe to only wells with greater than 5000 bbls of oil"
   ]
  },
  {
   "cell_type": "code",
   "execution_count": null,
   "id": "8189358d",
   "metadata": {},
   "outputs": [],
   "source": [
    "# Determine the sum and average oil production per formation"
   ]
  }
 ],
 "metadata": {
  "kernelspec": {
   "display_name": "Python 3",
   "language": "python",
   "name": "python3"
  },
  "language_info": {
   "codemirror_mode": {
    "name": "ipython",
    "version": 3
   },
   "file_extension": ".py",
   "mimetype": "text/x-python",
   "name": "python",
   "nbconvert_exporter": "python",
   "pygments_lexer": "ipython3",
   "version": "3.8.8"
  }
 },
 "nbformat": 4,
 "nbformat_minor": 5
}
