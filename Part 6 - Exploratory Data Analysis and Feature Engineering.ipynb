{
 "cells": [
  {
   "cell_type": "code",
   "execution_count": null,
   "id": "09ff677f",
   "metadata": {},
   "outputs": [],
   "source": [
    "# Load libraries\n",
    "# Load the following libraries:  numpy, pandas, pandas_profiling"
   ]
  },
  {
   "cell_type": "code",
   "execution_count": null,
   "id": "d618b2ac",
   "metadata": {},
   "outputs": [],
   "source": [
    "# Read .csv into a dataframe called wells"
   ]
  },
  {
   "cell_type": "code",
   "execution_count": null,
   "id": "4fc29176",
   "metadata": {},
   "outputs": [],
   "source": [
    "# Select this subset of features into wells_filtered:  \"Vintage\", \"Trajectory\",\"LateralLength_FT\",\"TVD_FT\",\"Formation\",\"First12MonthOil_BBL\",\"NearNeighborCount100dVZone\",\"MonthsToPeakProduction\",\"ProppantIntensity_LBSPerFT\",\"ProppantLoading_LBSPerGAL\",\"RawOperator\",\"Section\",\"Township\",\"Range\""
   ]
  },
  {
   "cell_type": "code",
   "execution_count": null,
   "id": "7aa2297a",
   "metadata": {},
   "outputs": [],
   "source": [
    "# Execute profile on wells_filtered"
   ]
  },
  {
   "cell_type": "code",
   "execution_count": null,
   "id": "4ee2f282",
   "metadata": {},
   "outputs": [],
   "source": [
    "# Data cleaning - remove missing values"
   ]
  },
  {
   "cell_type": "code",
   "execution_count": null,
   "id": "452979a1",
   "metadata": {},
   "outputs": [],
   "source": [
    "# Data cleaning - examine outliers"
   ]
  },
  {
   "cell_type": "code",
   "execution_count": null,
   "id": "cc61cf09",
   "metadata": {},
   "outputs": [],
   "source": [
    "# Data cleaning - replace outliers"
   ]
  },
  {
   "cell_type": "code",
   "execution_count": null,
   "id": "cbc6a9d3",
   "metadata": {},
   "outputs": [],
   "source": [
    "# Measuring correlation"
   ]
  },
  {
   "cell_type": "code",
   "execution_count": null,
   "id": "c6d5fbce",
   "metadata": {},
   "outputs": [],
   "source": [
    "# Create dummy variables for Trajectory"
   ]
  }
 ],
 "metadata": {
  "kernelspec": {
   "display_name": "Python 3",
   "language": "python",
   "name": "python3"
  },
  "language_info": {
   "codemirror_mode": {
    "name": "ipython",
    "version": 3
   },
   "file_extension": ".py",
   "mimetype": "text/x-python",
   "name": "python",
   "nbconvert_exporter": "python",
   "pygments_lexer": "ipython3",
   "version": "3.8.8"
  }
 },
 "nbformat": 4,
 "nbformat_minor": 5
}
