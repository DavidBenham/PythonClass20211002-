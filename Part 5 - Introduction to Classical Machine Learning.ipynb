{
 "cells": [
  {
   "cell_type": "code",
   "execution_count": null,
   "id": "b69fa101",
   "metadata": {},
   "outputs": [],
   "source": [
    "# Load libraries\n",
    "# Load the following libraries:  numpy, pandas, train test split, Random Forest Regressor, \n",
    "# Mean Squared Error, Random Forest Classifier, and accuracy score"
   ]
  },
  {
   "cell_type": "code",
   "execution_count": null,
   "id": "048b3343",
   "metadata": {},
   "outputs": [],
   "source": [
    "# Read .csv into a dataframe called wells"
   ]
  },
  {
   "cell_type": "code",
   "execution_count": null,
   "id": "0a9df5d1",
   "metadata": {},
   "outputs": [],
   "source": [
    "# Select these columns from wells and store in wells_filtered:\n",
    "# \"Vintage\",\"LateralLength_FT\",\"First12MonthOil_BBL\""
   ]
  },
  {
   "cell_type": "code",
   "execution_count": null,
   "id": "e6de6459",
   "metadata": {},
   "outputs": [],
   "source": [
    "# Drop null values"
   ]
  },
  {
   "cell_type": "code",
   "execution_count": null,
   "id": "064fcb36",
   "metadata": {},
   "outputs": [],
   "source": [
    "# Provide a feature list"
   ]
  },
  {
   "cell_type": "code",
   "execution_count": null,
   "id": "9d0046b3",
   "metadata": {},
   "outputs": [],
   "source": [
    "# Provide a label array"
   ]
  },
  {
   "cell_type": "code",
   "execution_count": null,
   "id": "624d77e9",
   "metadata": {},
   "outputs": [],
   "source": [
    "# Define features"
   ]
  },
  {
   "cell_type": "code",
   "execution_count": null,
   "id": "768a2635",
   "metadata": {},
   "outputs": [],
   "source": [
    "# Split data"
   ]
  },
  {
   "cell_type": "code",
   "execution_count": null,
   "id": "0f1ae21c",
   "metadata": {},
   "outputs": [],
   "source": [
    "# Train regression model"
   ]
  },
  {
   "cell_type": "code",
   "execution_count": null,
   "id": "fefddef8",
   "metadata": {},
   "outputs": [],
   "source": [
    "# Test regression model"
   ]
  },
  {
   "cell_type": "code",
   "execution_count": null,
   "id": "7f156cc9",
   "metadata": {},
   "outputs": [],
   "source": [
    "# Measure regression model"
   ]
  }
 ],
 "metadata": {
  "kernelspec": {
   "display_name": "Python 3",
   "language": "python",
   "name": "python3"
  },
  "language_info": {
   "codemirror_mode": {
    "name": "ipython",
    "version": 3
   },
   "file_extension": ".py",
   "mimetype": "text/x-python",
   "name": "python",
   "nbconvert_exporter": "python",
   "pygments_lexer": "ipython3",
   "version": "3.8.8"
  }
 },
 "nbformat": 4,
 "nbformat_minor": 5
}
